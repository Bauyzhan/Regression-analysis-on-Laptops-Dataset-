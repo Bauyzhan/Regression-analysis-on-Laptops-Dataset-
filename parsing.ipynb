{
 "cells": [
  {
   "cell_type": "markdown",
   "metadata": {},
   "source": [
    "# Data Collection"
   ]
  },
  {
   "cell_type": "code",
   "execution_count": 1,
   "metadata": {},
   "outputs": [],
   "source": [
    "import requests\n",
    "from bs4 import BeautifulSoup\n",
    "import re\n",
    "import json\n",
    "import pandas as pd"
   ]
  },
  {
   "cell_type": "code",
   "execution_count": 2,
   "metadata": {},
   "outputs": [],
   "source": [
    "# page which we want to parse\n",
    "url = 'https://nout.kz/catalog/notebooks/filter/product_type-is-81366f69e544f64817c57cbb10961431/'\n",
    "headers = {'user-agent': 'Mozilla/5.0'}\n",
    "response = requests.get(url, headers=headers)\n",
    "html = response.text\n",
    "soup = BeautifulSoup(html, 'html.parser')"
   ]
  },
  {
   "cell_type": "code",
   "execution_count": 3,
   "metadata": {},
   "outputs": [
    {
     "name": "stdout",
     "output_type": "stream",
     "text": [
      "Всего страниц: 136\n"
     ]
    }
   ],
   "source": [
    "# finding number of pages\n",
    "pagination = soup.find('div',attrs={'class':'blog-page-navigation'}).find_all('a')\n",
    "pages = pagination[-2].text\n",
    "print('Всего страниц: ' + pages)"
   ]
  },
  {
   "cell_type": "code",
   "execution_count": 4,
   "metadata": {},
   "outputs": [
    {
     "name": "stdout",
     "output_type": "stream",
     "text": [
      "Parsing of page 1 from 136...\n",
      "Parsing of page 2 from 136...\n",
      "Parsing of page 3 from 136...\n",
      "Parsing of page 4 from 136...\n",
      "Parsing of page 5 from 136...\n",
      "Parsing of page 6 from 136...\n",
      "Parsing of page 7 from 136...\n",
      "Parsing of page 8 from 136...\n",
      "Parsing of page 9 from 136...\n",
      "Parsing of page 10 from 136...\n",
      "Parsing of page 11 from 136...\n",
      "Parsing of page 12 from 136...\n",
      "Parsing of page 13 from 136...\n",
      "Parsing of page 14 from 136...\n",
      "Parsing of page 15 from 136...\n",
      "Parsing of page 16 from 136...\n",
      "Parsing of page 17 from 136...\n",
      "Parsing of page 18 from 136...\n",
      "Parsing of page 19 from 136...\n",
      "Parsing of page 20 from 136...\n",
      "Parsing of page 21 from 136...\n",
      "Parsing of page 22 from 136...\n",
      "Parsing of page 23 from 136...\n",
      "Parsing of page 24 from 136...\n",
      "Parsing of page 25 from 136...\n",
      "Parsing of page 26 from 136...\n",
      "Parsing of page 27 from 136...\n",
      "Parsing of page 28 from 136...\n",
      "Parsing of page 29 from 136...\n",
      "Parsing of page 30 from 136...\n",
      "Parsing of page 31 from 136...\n",
      "Parsing of page 32 from 136...\n",
      "Parsing of page 33 from 136...\n",
      "Parsing of page 34 from 136...\n",
      "Parsing of page 35 from 136...\n",
      "Parsing of page 36 from 136...\n",
      "Parsing of page 37 from 136...\n",
      "Parsing of page 38 from 136...\n",
      "Parsing of page 39 from 136...\n",
      "Parsing of page 40 from 136...\n",
      "Parsing of page 41 from 136...\n",
      "Parsing of page 42 from 136...\n",
      "Parsing of page 43 from 136...\n",
      "Parsing of page 44 from 136...\n",
      "Parsing of page 45 from 136...\n",
      "Parsing of page 46 from 136...\n",
      "Parsing of page 47 from 136...\n",
      "Parsing of page 48 from 136...\n",
      "Parsing of page 49 from 136...\n",
      "Parsing of page 50 from 136...\n",
      "Parsing of page 51 from 136...\n",
      "Parsing of page 52 from 136...\n",
      "Parsing of page 53 from 136...\n",
      "Parsing of page 54 from 136...\n",
      "Parsing of page 55 from 136...\n",
      "Parsing of page 56 from 136...\n",
      "Parsing of page 57 from 136...\n",
      "Parsing of page 58 from 136...\n",
      "Parsing of page 59 from 136...\n",
      "Parsing of page 60 from 136...\n",
      "Parsing of page 61 from 136...\n",
      "Parsing of page 62 from 136...\n",
      "Parsing of page 63 from 136...\n",
      "Parsing of page 64 from 136...\n",
      "Parsing of page 65 from 136...\n",
      "Parsing of page 66 from 136...\n",
      "Parsing of page 67 from 136...\n",
      "Parsing of page 68 from 136...\n",
      "Parsing of page 69 from 136...\n",
      "Parsing of page 70 from 136...\n",
      "Parsing of page 71 from 136...\n",
      "Parsing of page 72 from 136...\n",
      "Parsing of page 73 from 136...\n",
      "Parsing of page 74 from 136...\n",
      "Parsing of page 75 from 136...\n",
      "Parsing of page 76 from 136...\n",
      "Parsing of page 77 from 136...\n",
      "Parsing of page 78 from 136...\n",
      "Parsing of page 79 from 136...\n",
      "Parsing of page 80 from 136...\n",
      "Parsing of page 81 from 136...\n",
      "Parsing of page 82 from 136...\n",
      "Parsing of page 83 from 136...\n",
      "Parsing of page 84 from 136...\n",
      "Parsing of page 85 from 136...\n",
      "Parsing of page 86 from 136...\n",
      "Parsing of page 87 from 136...\n",
      "Parsing of page 88 from 136...\n",
      "Parsing of page 89 from 136...\n",
      "Parsing of page 90 from 136...\n",
      "Parsing of page 91 from 136...\n",
      "Parsing of page 92 from 136...\n",
      "Parsing of page 93 from 136...\n",
      "Parsing of page 94 from 136...\n",
      "Parsing of page 95 from 136...\n",
      "Parsing of page 96 from 136...\n",
      "Parsing of page 97 from 136...\n",
      "Parsing of page 98 from 136...\n",
      "Parsing of page 99 from 136...\n",
      "Parsing of page 100 from 136...\n",
      "Parsing of page 101 from 136...\n",
      "Parsing of page 102 from 136...\n",
      "Parsing of page 103 from 136...\n",
      "Parsing of page 104 from 136...\n",
      "Parsing of page 105 from 136...\n",
      "Parsing of page 106 from 136...\n",
      "Parsing of page 107 from 136...\n",
      "Parsing of page 108 from 136...\n",
      "Parsing of page 109 from 136...\n",
      "Parsing of page 110 from 136...\n",
      "Parsing of page 111 from 136...\n",
      "Parsing of page 112 from 136...\n",
      "Parsing of page 113 from 136...\n",
      "Parsing of page 114 from 136...\n",
      "Parsing of page 115 from 136...\n",
      "Parsing of page 116 from 136...\n",
      "Parsing of page 117 from 136...\n",
      "Parsing of page 118 from 136...\n",
      "Parsing of page 119 from 136...\n",
      "Parsing of page 120 from 136...\n",
      "Parsing of page 121 from 136...\n",
      "Parsing of page 122 from 136...\n",
      "Parsing of page 123 from 136...\n",
      "Parsing of page 124 from 136...\n",
      "Parsing of page 125 from 136...\n",
      "Parsing of page 126 from 136...\n",
      "Parsing of page 127 from 136...\n",
      "Parsing of page 128 from 136...\n",
      "Parsing of page 129 from 136...\n",
      "Parsing of page 130 from 136...\n",
      "Parsing of page 131 from 136...\n",
      "Parsing of page 132 from 136...\n",
      "Parsing of page 133 from 136...\n",
      "Parsing of page 134 from 136...\n",
      "Parsing of page 135 from 136...\n",
      "Parsing of page 136 from 136...\n"
     ]
    }
   ],
   "source": [
    "# getting data from every page\n",
    "notebooks = []\n",
    "for page in range(1, int(pages)+1):\n",
    "    response = requests.get(url, headers=headers, params={'PAGEN_1': page})\n",
    "    html = response.text\n",
    "    soup = BeautifulSoup(html, 'html.parser')\n",
    "    table = soup.find('div', attrs = {'class':'catalog-list row'})\n",
    "    print(f'Parsing of page {page} from {pages}...')\n",
    "    for row in table.findAll('div',attrs = {'class':'catalog-list-element element-add-basket-ajax item'}):\n",
    "        if len(row.find('div',attrs={'class':'description'}).findAll('div',attrs={'class':'param'})) == 8:\n",
    "            notebook = {}\n",
    "            notebook['name'] = row.h2.a.text\n",
    "            notebook['brand'] = re.sub(r'[\\t\\n ]+', ' ',row.find('div', attrs = {'class':'description'}).select_one(\":nth-child(3)\").text).strip().replace('Бренд: ','')\n",
    "            notebook['gigabytes'] = int(re.sub(r'[\\t\\n ]+', ' ',row.find('div', attrs = {'class':'description'}).select_one(\":nth-child(4)\").text).strip().replace('Жесткий диск, ГБ: ',''))\n",
    "            notebook['disc-tech'] = re.sub(r'[\\t\\n ]+', ' ',row.find('div', attrs = {'class':'description'}).select_one(\":nth-child(5)\").text).strip().replace('Технология диска: ','')\n",
    "            notebook['RAM'] = int((re.sub(r'[\\t\\n ]+', ' ',row.find('div', attrs = {'class':'description'}).select_one(\":nth-child(6)\").text).strip()).replace('RAM, Гб: ',''))\n",
    "            notebook['screen_size'] = float((re.sub(r'[\\t\\n ]+', ' ',row.find('div', attrs = {'class':'description'}).select_one(\":nth-child(7)\").text).strip()).replace('Диагональ экрана, \": ',''))\n",
    "            notebook['CPU'] = re.sub(r'[\\t\\n ]+', ' ',row.find('div', attrs = {'class':'description'}).select_one(\":nth-child(8)\").text).strip().replace('CPU: ','')\n",
    "            notebook['price'] =  (row.find('div', attrs = {'class':'product-price'}).find('div', attrs = {'class':'real'}).text)\n",
    "            notebooks.append(notebook)\n",
    "        else:\n",
    "            pass"
   ]
  },
  {
   "cell_type": "markdown",
   "metadata": {},
   "source": [
    "# Data Cleaning"
   ]
  },
  {
   "cell_type": "code",
   "execution_count": 5,
   "metadata": {},
   "outputs": [],
   "source": [
    "#Creating dataframe and storing all values to it\n",
    "df = pd.DataFrame.from_dict(notebooks)"
   ]
  },
  {
   "cell_type": "code",
   "execution_count": 6,
   "metadata": {},
   "outputs": [
    {
     "data": {
      "text/html": [
       "<div>\n",
       "<style scoped>\n",
       "    .dataframe tbody tr th:only-of-type {\n",
       "        vertical-align: middle;\n",
       "    }\n",
       "\n",
       "    .dataframe tbody tr th {\n",
       "        vertical-align: top;\n",
       "    }\n",
       "\n",
       "    .dataframe thead th {\n",
       "        text-align: right;\n",
       "    }\n",
       "</style>\n",
       "<table border=\"1\" class=\"dataframe\">\n",
       "  <thead>\n",
       "    <tr style=\"text-align: right;\">\n",
       "      <th></th>\n",
       "      <th>name</th>\n",
       "      <th>brand</th>\n",
       "      <th>gigabytes</th>\n",
       "      <th>disc-tech</th>\n",
       "      <th>RAM</th>\n",
       "      <th>screen_size</th>\n",
       "      <th>CPU</th>\n",
       "      <th>price</th>\n",
       "    </tr>\n",
       "  </thead>\n",
       "  <tbody>\n",
       "    <tr>\n",
       "      <th>0</th>\n",
       "      <td>Ноутбук Toshiba Dynabook R731/E</td>\n",
       "      <td>Toshiba</td>\n",
       "      <td>250</td>\n",
       "      <td>HDD</td>\n",
       "      <td>4</td>\n",
       "      <td>13.0</td>\n",
       "      <td>Core i3-2310M 2.1 ГГц</td>\n",
       "      <td>38 900 ₸</td>\n",
       "    </tr>\n",
       "    <tr>\n",
       "      <th>1</th>\n",
       "      <td>Ноутбук Toshiba Dynabook R731/E</td>\n",
       "      <td>Toshiba</td>\n",
       "      <td>250</td>\n",
       "      <td>HDD</td>\n",
       "      <td>4</td>\n",
       "      <td>13.0</td>\n",
       "      <td>Core i5-2520M 2.5 ГГц</td>\n",
       "      <td>46 900 ₸</td>\n",
       "    </tr>\n",
       "    <tr>\n",
       "      <th>2</th>\n",
       "      <td>Ноутбук Toshiba Dynabook R731</td>\n",
       "      <td>Toshiba</td>\n",
       "      <td>250</td>\n",
       "      <td>HDD</td>\n",
       "      <td>4</td>\n",
       "      <td>13.0</td>\n",
       "      <td>Core i3-2310M 2.1 ГГц</td>\n",
       "      <td>67 500 ₸</td>\n",
       "    </tr>\n",
       "    <tr>\n",
       "      <th>3</th>\n",
       "      <td>Ноутбук Toshiba Dynabook R731/B</td>\n",
       "      <td>Toshiba</td>\n",
       "      <td>250</td>\n",
       "      <td>HDD</td>\n",
       "      <td>4</td>\n",
       "      <td>13.0</td>\n",
       "      <td>Core i5-2520M 2.5 ГГц</td>\n",
       "      <td>78 900 ₸</td>\n",
       "    </tr>\n",
       "    <tr>\n",
       "      <th>4</th>\n",
       "      <td>Ноутбук Lenovo ThinkPad X260 256 SSD</td>\n",
       "      <td>Lenovo</td>\n",
       "      <td>256</td>\n",
       "      <td>SSD</td>\n",
       "      <td>16</td>\n",
       "      <td>12.5</td>\n",
       "      <td>Core i5-6300U 2.4 ГГц</td>\n",
       "      <td>79 900 ₸</td>\n",
       "    </tr>\n",
       "  </tbody>\n",
       "</table>\n",
       "</div>"
      ],
      "text/plain": [
       "                                   name    brand  gigabytes disc-tech  RAM  \\\n",
       "0       Ноутбук Toshiba Dynabook R731/E  Toshiba        250       HDD    4   \n",
       "1       Ноутбук Toshiba Dynabook R731/E  Toshiba        250       HDD    4   \n",
       "2         Ноутбук Toshiba Dynabook R731  Toshiba        250       HDD    4   \n",
       "3       Ноутбук Toshiba Dynabook R731/B  Toshiba        250       HDD    4   \n",
       "4  Ноутбук Lenovo ThinkPad X260 256 SSD   Lenovo        256       SSD   16   \n",
       "\n",
       "   screen_size                    CPU     price  \n",
       "0         13.0  Core i3-2310M 2.1 ГГц  38 900 ₸  \n",
       "1         13.0  Core i5-2520M 2.5 ГГц  46 900 ₸  \n",
       "2         13.0  Core i3-2310M 2.1 ГГц  67 500 ₸  \n",
       "3         13.0  Core i5-2520M 2.5 ГГц  78 900 ₸  \n",
       "4         12.5  Core i5-6300U 2.4 ГГц  79 900 ₸  "
      ]
     },
     "execution_count": 6,
     "metadata": {},
     "output_type": "execute_result"
    }
   ],
   "source": [
    "df.head()"
   ]
  },
  {
   "cell_type": "markdown",
   "metadata": {},
   "source": [
    "Change column name"
   ]
  },
  {
   "cell_type": "code",
   "execution_count": 7,
   "metadata": {},
   "outputs": [],
   "source": [
    "df.rename(columns = {'name':'laptop_name','gigabytes':'hard_disc_size','brand':'brand_name','price':'price_in_₸'}, inplace = True) "
   ]
  },
  {
   "cell_type": "code",
   "execution_count": 8,
   "metadata": {},
   "outputs": [
    {
     "data": {
      "text/plain": [
       "(1582, 8)"
      ]
     },
     "execution_count": 8,
     "metadata": {},
     "output_type": "execute_result"
    }
   ],
   "source": [
    "df.shape"
   ]
  },
  {
   "cell_type": "code",
   "execution_count": 9,
   "metadata": {},
   "outputs": [
    {
     "data": {
      "text/plain": [
       "laptop_name        object\n",
       "brand_name         object\n",
       "hard_disc_size      int64\n",
       "disc-tech          object\n",
       "RAM                 int64\n",
       "screen_size       float64\n",
       "CPU                object\n",
       "price_in_₸         object\n",
       "dtype: object"
      ]
     },
     "execution_count": 9,
     "metadata": {},
     "output_type": "execute_result"
    }
   ],
   "source": [
    "df.dtypes"
   ]
  },
  {
   "cell_type": "markdown",
   "metadata": {},
   "source": [
    "Necessary to change price column from object type into int type"
   ]
  },
  {
   "cell_type": "code",
   "execution_count": 11,
   "metadata": {},
   "outputs": [],
   "source": [
    "df['price_in_₸'] = df['price_in_₸'].str.replace('₸','') #removing cuurency sign"
   ]
  },
  {
   "cell_type": "code",
   "execution_count": 12,
   "metadata": {},
   "outputs": [],
   "source": [
    "df['price_in_₸'] = df['price_in_₸'].str.replace(' ','') #removing extra space"
   ]
  },
  {
   "cell_type": "code",
   "execution_count": 13,
   "metadata": {},
   "outputs": [],
   "source": [
    "df['price_in_₸'] = df['price_in_₸'].apply(pd.to_numeric)"
   ]
  },
  {
   "cell_type": "markdown",
   "metadata": {},
   "source": [
    "Removing rows with empty values"
   ]
  },
  {
   "cell_type": "code",
   "execution_count": 14,
   "metadata": {},
   "outputs": [
    {
     "data": {
      "text/plain": [
       "laptop_name        0\n",
       "brand_name         0\n",
       "hard_disc_size     0\n",
       "disc-tech          0\n",
       "RAM                0\n",
       "screen_size        0\n",
       "CPU                0\n",
       "price_in_₸        59\n",
       "dtype: int64"
      ]
     },
     "execution_count": 14,
     "metadata": {},
     "output_type": "execute_result"
    }
   ],
   "source": [
    "df.isnull().sum()"
   ]
  },
  {
   "cell_type": "code",
   "execution_count": 15,
   "metadata": {},
   "outputs": [],
   "source": [
    "df_updated = df.dropna(axis=0)"
   ]
  },
  {
   "cell_type": "code",
   "execution_count": 16,
   "metadata": {},
   "outputs": [
    {
     "data": {
      "text/plain": [
       "(1523, 8)"
      ]
     },
     "execution_count": 16,
     "metadata": {},
     "output_type": "execute_result"
    }
   ],
   "source": [
    "df_updated.shape"
   ]
  },
  {
   "cell_type": "markdown",
   "metadata": {},
   "source": [
    "Overall statistics"
   ]
  },
  {
   "cell_type": "code",
   "execution_count": 17,
   "metadata": {},
   "outputs": [
    {
     "data": {
      "text/html": [
       "<div>\n",
       "<style scoped>\n",
       "    .dataframe tbody tr th:only-of-type {\n",
       "        vertical-align: middle;\n",
       "    }\n",
       "\n",
       "    .dataframe tbody tr th {\n",
       "        vertical-align: top;\n",
       "    }\n",
       "\n",
       "    .dataframe thead th {\n",
       "        text-align: right;\n",
       "    }\n",
       "</style>\n",
       "<table border=\"1\" class=\"dataframe\">\n",
       "  <thead>\n",
       "    <tr style=\"text-align: right;\">\n",
       "      <th></th>\n",
       "      <th>hard_disc_size</th>\n",
       "      <th>RAM</th>\n",
       "      <th>screen_size</th>\n",
       "      <th>price_in_₸</th>\n",
       "    </tr>\n",
       "  </thead>\n",
       "  <tbody>\n",
       "    <tr>\n",
       "      <th>count</th>\n",
       "      <td>1523.000000</td>\n",
       "      <td>1523.000000</td>\n",
       "      <td>1523.000000</td>\n",
       "      <td>1.523000e+03</td>\n",
       "    </tr>\n",
       "    <tr>\n",
       "      <th>mean</th>\n",
       "      <td>490.592252</td>\n",
       "      <td>11.477347</td>\n",
       "      <td>15.024951</td>\n",
       "      <td>6.042209e+05</td>\n",
       "    </tr>\n",
       "    <tr>\n",
       "      <th>std</th>\n",
       "      <td>277.642106</td>\n",
       "      <td>6.357710</td>\n",
       "      <td>1.084496</td>\n",
       "      <td>3.941037e+05</td>\n",
       "    </tr>\n",
       "    <tr>\n",
       "      <th>min</th>\n",
       "      <td>128.000000</td>\n",
       "      <td>4.000000</td>\n",
       "      <td>11.600000</td>\n",
       "      <td>3.890000e+04</td>\n",
       "    </tr>\n",
       "    <tr>\n",
       "      <th>25%</th>\n",
       "      <td>256.000000</td>\n",
       "      <td>8.000000</td>\n",
       "      <td>14.000000</td>\n",
       "      <td>3.443975e+05</td>\n",
       "    </tr>\n",
       "    <tr>\n",
       "      <th>50%</th>\n",
       "      <td>512.000000</td>\n",
       "      <td>8.000000</td>\n",
       "      <td>15.600000</td>\n",
       "      <td>5.139750e+05</td>\n",
       "    </tr>\n",
       "    <tr>\n",
       "      <th>75%</th>\n",
       "      <td>512.000000</td>\n",
       "      <td>16.000000</td>\n",
       "      <td>15.600000</td>\n",
       "      <td>7.288500e+05</td>\n",
       "    </tr>\n",
       "    <tr>\n",
       "      <th>max</th>\n",
       "      <td>2048.000000</td>\n",
       "      <td>64.000000</td>\n",
       "      <td>18.000000</td>\n",
       "      <td>3.849800e+06</td>\n",
       "    </tr>\n",
       "  </tbody>\n",
       "</table>\n",
       "</div>"
      ],
      "text/plain": [
       "       hard_disc_size          RAM  screen_size    price_in_₸\n",
       "count     1523.000000  1523.000000  1523.000000  1.523000e+03\n",
       "mean       490.592252    11.477347    15.024951  6.042209e+05\n",
       "std        277.642106     6.357710     1.084496  3.941037e+05\n",
       "min        128.000000     4.000000    11.600000  3.890000e+04\n",
       "25%        256.000000     8.000000    14.000000  3.443975e+05\n",
       "50%        512.000000     8.000000    15.600000  5.139750e+05\n",
       "75%        512.000000    16.000000    15.600000  7.288500e+05\n",
       "max       2048.000000    64.000000    18.000000  3.849800e+06"
      ]
     },
     "execution_count": 17,
     "metadata": {},
     "output_type": "execute_result"
    }
   ],
   "source": [
    "df_updated.describe()"
   ]
  },
  {
   "cell_type": "markdown",
   "metadata": {},
   "source": [
    "Removing unnecessary word \"Ноутбук\" from 'laptop_name'"
   ]
  },
  {
   "cell_type": "code",
   "execution_count": 22,
   "metadata": {},
   "outputs": [
    {
     "name": "stderr",
     "output_type": "stream",
     "text": [
      "C:\\Users\\askha\\AppData\\Local\\Temp\\ipykernel_12812\\903728624.py:1: SettingWithCopyWarning: \n",
      "A value is trying to be set on a copy of a slice from a DataFrame.\n",
      "Try using .loc[row_indexer,col_indexer] = value instead\n",
      "\n",
      "See the caveats in the documentation: https://pandas.pydata.org/pandas-docs/stable/user_guide/indexing.html#returning-a-view-versus-a-copy\n",
      "  df_updated['laptop_name'] = df_updated['laptop_name'].str.replace('Ноутбук','')\n"
     ]
    }
   ],
   "source": [
    "df_updated['laptop_name'] = df_updated['laptop_name'].str.replace('Ноутбук','')"
   ]
  },
  {
   "cell_type": "markdown",
   "metadata": {},
   "source": [
    "Saving dataframe to csv.file"
   ]
  },
  {
   "cell_type": "code",
   "execution_count": 24,
   "metadata": {},
   "outputs": [],
   "source": [
    "df_updated.to_csv('laptops.csv',index=False)"
   ]
  }
 ],
 "metadata": {
  "kernelspec": {
   "display_name": "Python 3",
   "language": "python",
   "name": "python3"
  },
  "language_info": {
   "codemirror_mode": {
    "name": "ipython",
    "version": 3
   },
   "file_extension": ".py",
   "mimetype": "text/x-python",
   "name": "python",
   "nbconvert_exporter": "python",
   "pygments_lexer": "ipython3",
   "version": "3.9.10"
  }
 },
 "nbformat": 4,
 "nbformat_minor": 2
}
